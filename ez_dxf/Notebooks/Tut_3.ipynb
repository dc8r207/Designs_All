{
 "cells": [
  {
   "cell_type": "code",
   "execution_count": 18,
   "id": "44225ace",
   "metadata": {},
   "outputs": [],
   "source": [
    "import ezdxf"
   ]
  },
  {
   "cell_type": "code",
   "execution_count": 19,
   "id": "7ef41494",
   "metadata": {},
   "outputs": [],
   "source": [
    "doc=ezdxf.new(dxfversion='AC1018')"
   ]
  },
  {
   "cell_type": "code",
   "execution_count": 20,
   "id": "707f7ef0",
   "metadata": {},
   "outputs": [],
   "source": [
    "doc_file_name=r\"F:\\All Design\\Designs_All\\ez_dxf\\CADOutputs\\tut_3.dxf\""
   ]
  },
  {
   "cell_type": "code",
   "execution_count": 21,
   "id": "40cfc462",
   "metadata": {},
   "outputs": [],
   "source": [
    "doc.saveas(doc_file_name)"
   ]
  },
  {
   "cell_type": "code",
   "execution_count": 22,
   "id": "8aacdb7c",
   "metadata": {},
   "outputs": [],
   "source": [
    "msp=doc.modelspace()"
   ]
  },
  {
   "cell_type": "code",
   "execution_count": 2,
   "id": "b18305e1",
   "metadata": {},
   "outputs": [
    {
     "ename": "NameError",
     "evalue": "name 'msp' is not defined",
     "output_type": "error",
     "traceback": [
      "\u001b[1;31m---------------------------------------------------------------------------\u001b[0m",
      "\u001b[1;31mNameError\u001b[0m                                 Traceback (most recent call last)",
      "Cell \u001b[1;32mIn[2], line 2\u001b[0m\n\u001b[0;32m      1\u001b[0m triangle_vertex_list\u001b[38;5;241m=\u001b[39m[(\u001b[38;5;241m10\u001b[39m,\u001b[38;5;241m0\u001b[39m), (\u001b[38;5;241m15\u001b[39m,\u001b[38;5;241m0\u001b[39m), (\u001b[38;5;241m12\u001b[39m,\u001b[38;5;241m5\u001b[39m),(\u001b[38;5;241m10\u001b[39m,\u001b[38;5;241m0\u001b[39m)]\n\u001b[1;32m----> 2\u001b[0m \u001b[43mmsp\u001b[49m\u001b[38;5;241m.\u001b[39madd_lwpolyline(triangle_vertex_list)\n\u001b[0;32m      3\u001b[0m \u001b[38;5;66;03m#triangle.closed=True\u001b[39;00m\n",
      "\u001b[1;31mNameError\u001b[0m: name 'msp' is not defined"
     ]
    }
   ],
   "source": [
    "triangle_vertex_list=[(10,0), (15,0), (12,5),(10,0)]\n",
    "msp.add_lwpolyline(triangle_vertex_list)\n",
    "#triangle.closed=True"
   ]
  },
  {
   "cell_type": "code",
   "execution_count": 27,
   "id": "614cc4a0",
   "metadata": {},
   "outputs": [],
   "source": [
    "doc.saveas(doc_file_name)"
   ]
  },
  {
   "cell_type": "code",
   "execution_count": null,
   "id": "3ffa247f",
   "metadata": {},
   "outputs": [],
   "source": []
  },
  {
   "cell_type": "code",
   "execution_count": null,
   "id": "4e0306c9",
   "metadata": {},
   "outputs": [],
   "source": []
  }
 ],
 "metadata": {
  "kernelspec": {
   "display_name": "Python 3 (ipykernel)",
   "language": "python",
   "name": "python3"
  },
  "language_info": {
   "codemirror_mode": {
    "name": "ipython",
    "version": 3
   },
   "file_extension": ".py",
   "mimetype": "text/x-python",
   "name": "python",
   "nbconvert_exporter": "python",
   "pygments_lexer": "ipython3",
   "version": "3.10.8"
  }
 },
 "nbformat": 4,
 "nbformat_minor": 5
}
