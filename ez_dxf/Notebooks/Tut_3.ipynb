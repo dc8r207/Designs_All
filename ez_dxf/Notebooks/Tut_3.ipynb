{
 "cells": [
  {
   "cell_type": "code",
   "execution_count": 8,
   "id": "44225ace",
   "metadata": {},
   "outputs": [],
   "source": [
    "import ezdxf"
   ]
  },
  {
   "cell_type": "code",
   "execution_count": 9,
   "id": "7ef41494",
   "metadata": {},
   "outputs": [],
   "source": [
    "doc=ezdxf.new()"
   ]
  },
  {
   "cell_type": "code",
   "execution_count": 10,
   "id": "707f7ef0",
   "metadata": {},
   "outputs": [],
   "source": [
    "doc_file_name=r\"F:\\All Design\\Designs_All\\ez_dxf\\CADOutputs\\tut_3.dxf\""
   ]
  },
  {
   "cell_type": "code",
   "execution_count": 11,
   "id": "40cfc462",
   "metadata": {},
   "outputs": [],
   "source": [
    "doc.saveas(doc_file_name)"
   ]
  },
  {
   "cell_type": "code",
   "execution_count": 12,
   "id": "8aacdb7c",
   "metadata": {},
   "outputs": [],
   "source": [
    "msp=doc.modelspace()"
   ]
  },
  {
   "cell_type": "code",
   "execution_count": 13,
   "id": "b18305e1",
   "metadata": {},
   "outputs": [
    {
     "data": {
      "text/plain": [
       "<class 'ezdxf.entities.lwpolyline.LWPolyline'> LWPOLYLINE(#32)"
      ]
     },
     "execution_count": 13,
     "metadata": {},
     "output_type": "execute_result"
    }
   ],
   "source": [
    "triangle_vertex_list=[(10,0), (10,3), (12,2) ]\n",
    "msp.add_lwpolyline(triangle_vertex_list)"
   ]
  },
  {
   "cell_type": "code",
   "execution_count": 14,
   "id": "614cc4a0",
   "metadata": {},
   "outputs": [],
   "source": [
    "doc.saveas(doc_file_name)"
   ]
  },
  {
   "cell_type": "code",
   "execution_count": null,
   "id": "3ffa247f",
   "metadata": {},
   "outputs": [],
   "source": []
  }
 ],
 "metadata": {
  "kernelspec": {
   "display_name": "Python 3 (ipykernel)",
   "language": "python",
   "name": "python3"
  },
  "language_info": {
   "codemirror_mode": {
    "name": "ipython",
    "version": 3
   },
   "file_extension": ".py",
   "mimetype": "text/x-python",
   "name": "python",
   "nbconvert_exporter": "python",
   "pygments_lexer": "ipython3",
   "version": "3.10.8"
  }
 },
 "nbformat": 4,
 "nbformat_minor": 5
}
