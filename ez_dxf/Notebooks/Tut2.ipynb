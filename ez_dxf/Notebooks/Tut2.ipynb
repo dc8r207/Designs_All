{
 "cells": [
  {
   "cell_type": "code",
   "execution_count": 4,
   "id": "45356947",
   "metadata": {},
   "outputs": [],
   "source": [
    "import ezdxf"
   ]
  },
  {
   "cell_type": "code",
   "execution_count": 5,
   "id": "5333efc2",
   "metadata": {},
   "outputs": [],
   "source": [
    "#creating a new document\n",
    "doc=ezdxf.new()\n",
    "dxf_out_file_name=r\"F:\\All Design\\Designs_All\\ez_dxf\\CADOutputs\\tut2.dxf\"\n",
    "#saving dxf file\n",
    "doc.saveas(dxf_out_file_name)"
   ]
  },
  {
   "cell_type": "code",
   "execution_count": 6,
   "id": "2976cbfa",
   "metadata": {},
   "outputs": [
    {
     "data": {
      "text/plain": [
       "<class 'ezdxf.entities.lwpolyline.LWPolyline'> LWPOLYLINE(#32)"
      ]
     },
     "execution_count": 6,
     "metadata": {},
     "output_type": "execute_result"
    }
   ],
   "source": [
    "#referncing modelspace\n",
    "msp=doc.modelspace()\n",
    "points = [(0, 0), (3, 0), (6, 3), (6, 6)]\n",
    "msp.add_lwpolyline(points)\n"
   ]
  },
  {
   "cell_type": "code",
   "execution_count": 7,
   "id": "fff6f267",
   "metadata": {},
   "outputs": [],
   "source": [
    "doc.saveas(dxf_out_file_name)"
   ]
  },
  {
   "cell_type": "code",
   "execution_count": null,
   "id": "ae8ae1cc",
   "metadata": {},
   "outputs": [],
   "source": []
  }
 ],
 "metadata": {
  "kernelspec": {
   "display_name": "Python 3 (ipykernel)",
   "language": "python",
   "name": "python3"
  },
  "language_info": {
   "codemirror_mode": {
    "name": "ipython",
    "version": 3
   },
   "file_extension": ".py",
   "mimetype": "text/x-python",
   "name": "python",
   "nbconvert_exporter": "python",
   "pygments_lexer": "ipython3",
   "version": "3.10.8"
  }
 },
 "nbformat": 4,
 "nbformat_minor": 5
}
