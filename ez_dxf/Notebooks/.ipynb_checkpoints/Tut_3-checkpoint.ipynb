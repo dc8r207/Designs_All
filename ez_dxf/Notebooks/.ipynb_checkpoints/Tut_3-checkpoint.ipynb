{
 "cells": [
  {
   "cell_type": "code",
   "execution_count": 1,
   "id": "517fd9b1",
   "metadata": {},
   "outputs": [],
   "source": [
    "import ezdxf"
   ]
  },
  {
   "cell_type": "code",
   "execution_count": 2,
   "id": "6ab86d17",
   "metadata": {},
   "outputs": [],
   "source": [
    "doc=ezdxf.new()"
   ]
  },
  {
   "cell_type": "code",
   "execution_count": 3,
   "id": "6fd3ff17",
   "metadata": {},
   "outputs": [],
   "source": [
    "doc_file_name=r\"F:\\All Design\\Designs_All\\ez_dxf\\CADOutputs\\tut_3.dxf\""
   ]
  },
  {
   "cell_type": "code",
   "execution_count": 4,
   "id": "1913d8de",
   "metadata": {},
   "outputs": [],
   "source": [
    "doc.saveas(doc_file_name)"
   ]
  },
  {
   "cell_type": "code",
   "execution_count": 5,
   "id": "f907eb7c",
   "metadata": {},
   "outputs": [],
   "source": [
    "msp=doc.modelspace()"
   ]
  },
  {
   "cell_type": "code",
   "execution_count": 6,
   "id": "81c79e94",
   "metadata": {},
   "outputs": [
    {
     "data": {
      "text/plain": [
       "<class 'ezdxf.entities.lwpolyline.LWPolyline'> LWPOLYLINE(#32)"
      ]
     },
     "execution_count": 6,
     "metadata": {},
     "output_type": "execute_result"
    }
   ],
   "source": [
    "triangle_vertex_list=[(10,0), (10,3), (12,2) ]\n",
    "msp.add_lwpolyline(triangle_vertex_list)"
   ]
  },
  {
   "cell_type": "code",
   "execution_count": null,
   "id": "03432b3e",
   "metadata": {},
   "outputs": [],
   "source": []
  }
 ],
 "metadata": {
  "kernelspec": {
   "display_name": "Python 3 (ipykernel)",
   "language": "python",
   "name": "python3"
  },
  "language_info": {
   "codemirror_mode": {
    "name": "ipython",
    "version": 3
   },
   "file_extension": ".py",
   "mimetype": "text/x-python",
   "name": "python",
   "nbconvert_exporter": "python",
   "pygments_lexer": "ipython3",
   "version": "3.10.8"
  }
 },
 "nbformat": 4,
 "nbformat_minor": 5
}
